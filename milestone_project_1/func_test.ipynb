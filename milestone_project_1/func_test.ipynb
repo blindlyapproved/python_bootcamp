{
 "cells": [
  {
   "cell_type": "code",
   "execution_count": 1,
   "metadata": {},
   "outputs": [],
   "source": [
    "def take_bet():\n",
    "\n",
    "    bet = 0\n",
    "\n",
    "    bet = int(input(\"Please place your bet: \"))\n",
    "\n",
    "    return bet"
   ]
  },
  {
   "cell_type": "code",
   "execution_count": 2,
   "metadata": {},
   "outputs": [
    {
     "name": "stdout",
     "output_type": "stream",
     "text": [
      "Please place your bet: 20\n"
     ]
    },
    {
     "data": {
      "text/plain": [
       "20"
      ]
     },
     "execution_count": 2,
     "metadata": {},
     "output_type": "execute_result"
    }
   ],
   "source": [
    "take_bet()"
   ]
  },
  {
   "cell_type": "code",
   "execution_count": 8,
   "metadata": {},
   "outputs": [],
   "source": [
    "import random\n",
    "\n",
    "suits = [\"Spades\", \"Clubs\", \"Diamonds\", \"Hearts\"]\n",
    "ranks = (\"Two\", \"Three\", \"Four\", \"Five\", \"Six\", \"Seven\", \"Eight\", \"Nine\", \"Ten\", \"Jack\", \"Queen\", \"King\", \"Ace\")\n",
    "values = {\"Two\" :2, \"Three\" :3, \"Four\" :4, \"Five\" :5, \"Six\" :6, \"Seven\" :7, \"Eight\" :8, \"Nine\" :9, \"Ten\" :10, \"Jack\" :10, \"Queen\" :10, \"King\" :10, \"Ace\" :11}\n",
    "\n",
    "class Card:\n",
    "    def __init__(self, suits, ranks):\n",
    "        self.suits = suits\n",
    "        self.ranks = ranks\n",
    "\n",
    "    def __str__(self):\n",
    "        print(\"{} of {}\".format(self.ranks, self.suits))\n",
    "\n",
    "class Deck:\n",
    "\n",
    "    def __init__(self):\n",
    "        self.deck = []\n",
    "        for suit in suits:\n",
    "            for rank in ranks:\n",
    "\n",
    "    def __str__(self, suits, ranks):\n",
    "        print(suit, rank)\n",
    "\n",
    "    def shuffle(self):\n",
    "        random.shuffle(self.deck)"
   ]
  },
  {
   "cell_type": "code",
   "execution_count": 9,
   "metadata": {},
   "outputs": [],
   "source": [
    "deck1 = Deck()"
   ]
  },
  {
   "cell_type": "code",
   "execution_count": null,
   "metadata": {},
   "outputs": [],
   "source": []
  }
 ],
 "metadata": {
  "kernelspec": {
   "display_name": "Python 3",
   "language": "python",
   "name": "python3"
  },
  "language_info": {
   "codemirror_mode": {
    "name": "ipython",
    "version": 3
   },
   "file_extension": ".py",
   "mimetype": "text/x-python",
   "name": "python",
   "nbconvert_exporter": "python",
   "pygments_lexer": "ipython3",
   "version": "3.7.6"
  }
 },
 "nbformat": 4,
 "nbformat_minor": 4
}
