{
 "cells": [
  {
   "cell_type": "code",
   "execution_count": 1,
   "metadata": {},
   "outputs": [],
   "source": [
    "class Account():\n",
    "\n",
    "    def __init__(self, customer_id, customer_name, balance=0):\n",
    "\n",
    "        self.customer_id = customer_id\n",
    "        self.customer_name = customer_name\n",
    "        self.balance = balance\n",
    "\n",
    "class CheckingAccount(Account):\n",
    "\n",
    "    def __init__(self, customer_id, deposit_amount, withdrawal_amount):\n",
    "\n",
    "        self.deposit_amount = deposit_amount\n",
    "        self.withdrawal_amount = withdrawal_amount\n",
    "        \n",
    "    def deposit(self, balance, deposit_amount):\n",
    "\n",
    "        self.balance = self.balance + deposit_amount\n",
    "        print(\"You deposited ${} to your account\".format(deposit_amount))\n",
    "        print(\"Your total balance is now ${}\".format(balance))\n",
    "\n",
    "    def withdraw(self, balance, withdrawal_amount):\n",
    "        if withdrawal_amount <= balance:\n",
    "            self.balance = self.balance - withdrawal_amount\n",
    "            print(\"You withdrew ${} from your account\".format(withdrawal_amount))\n",
    "            print(\"Your total balance is now ${}\".format(balance))\n",
    "        else:\n",
    "            print(\"Sorry you have exceeded your balance.\")\n",
    "            \n",
    "            \n",
    "        def __str__(self):\n",
    "            return f\"\"\"The owner of this account is: {self.customer_name}\n",
    "The balance of this account is ${self.balance}\"\"\""
   ]
  },
  {
   "cell_type": "code",
   "execution_count": 2,
   "metadata": {},
   "outputs": [],
   "source": [
    "cus123 = Account(123, \"luuk\", 100)"
   ]
  },
  {
   "cell_type": "code",
   "execution_count": 3,
   "metadata": {},
   "outputs": [
    {
     "name": "stdout",
     "output_type": "stream",
     "text": [
      "<__main__.Account object at 0x111c96410>\n"
     ]
    }
   ],
   "source": [
    "print(cus123)"
   ]
  },
  {
   "cell_type": "code",
   "execution_count": null,
   "metadata": {},
   "outputs": [],
   "source": []
  }
 ],
 "metadata": {
  "kernelspec": {
   "display_name": "Python 3",
   "language": "python",
   "name": "python3"
  },
  "language_info": {
   "codemirror_mode": {
    "name": "ipython",
    "version": 3
   },
   "file_extension": ".py",
   "mimetype": "text/x-python",
   "name": "python",
   "nbconvert_exporter": "python",
   "pygments_lexer": "ipython3",
   "version": "3.7.6"
  }
 },
 "nbformat": 4,
 "nbformat_minor": 4
}
